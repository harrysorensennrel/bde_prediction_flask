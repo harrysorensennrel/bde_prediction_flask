{
 "cells": [
  {
   "cell_type": "code",
   "execution_count": 46,
   "metadata": {},
   "outputs": [],
   "source": [
    "import pandas as pd\n",
    "import numpy as np"
   ]
  },
  {
   "cell_type": "code",
   "execution_count": 73,
   "metadata": {},
   "outputs": [],
   "source": [
    "smiles = 'C=C(C)[C@H](O)[C@H](O)/C=C/F'"
   ]
  },
  {
   "cell_type": "code",
   "execution_count": 6,
   "metadata": {},
   "outputs": [],
   "source": [
    "from bde.fragment import fragment_iterator"
   ]
  },
  {
   "cell_type": "code",
   "execution_count": 7,
   "metadata": {},
   "outputs": [],
   "source": [
    "frag_df = pd.DataFrame(fragment_iterator(smiles))\n",
    "frag_df = frag_df[\n",
    "    (frag_df[['delta_assigned_stereo', 'delta_unassigned_stereo']] == 0).all(1)].drop(\n",
    "    ['delta_assigned_stereo', 'delta_unassigned_stereo'], 1)"
   ]
  },
  {
   "cell_type": "code",
   "execution_count": 8,
   "metadata": {},
   "outputs": [
    {
     "name": "stderr",
     "output_type": "stream",
     "text": [
      "Using TensorFlow backend.\n"
     ]
    }
   ],
   "source": [
    "import pickle\n",
    "import warnings\n",
    "\n",
    "import pandas as pd\n",
    "from keras.models import load_model\n",
    "\n",
    "from preprocessor_utils import ConcatGraphSequence\n",
    "from nfp import custom_layers\n",
    "\n",
    "with open('model_files/preprocessor.p', 'rb') as f:\n",
    "    preprocessor = pickle.load(f)"
   ]
  },
  {
   "cell_type": "code",
   "execution_count": 74,
   "metadata": {},
   "outputs": [
    {
     "name": "stderr",
     "output_type": "stream",
     "text": [
      "100%|██████████| 1/1 [00:00<00:00, 495.78it/s]\n"
     ]
    }
   ],
   "source": [
    "inputs = preprocessor.predict((smiles,))"
   ]
  },
  {
   "cell_type": "code",
   "execution_count": 85,
   "metadata": {},
   "outputs": [
    {
     "data": {
      "text/plain": [
       "array([ 0,  9, 10,  0,  1,  2,  1, 11, 12, 13,  2,  3,  4, 14,  3, 15,  4,\n",
       "        5,  6, 16,  5, 17,  6,  7, 18,  7,  8, 19,  8,  9, 10, 11, 12, 13,\n",
       "       14, 15, 16, 17, 18, 19])"
      ]
     },
     "execution_count": 85,
     "metadata": {},
     "output_type": "execute_result"
    }
   ],
   "source": []
  },
  {
   "cell_type": "code",
   "execution_count": 97,
   "metadata": {},
   "outputs": [
    {
     "ename": "AssertionError",
     "evalue": "",
     "output_type": "error",
     "traceback": [
      "\u001b[0;31m---------------------------------------------------------------------------\u001b[0m",
      "\u001b[0;31mAssertionError\u001b[0m                            Traceback (most recent call last)",
      "\u001b[0;32m<ipython-input-97-e8600985e6a6>\u001b[0m in \u001b[0;36m<module>\u001b[0;34m\u001b[0m\n\u001b[1;32m      7\u001b[0m     \u001b[0;32mreturn\u001b[0m \u001b[0mis_outlier\u001b[0m\u001b[0;34m,\u001b[0m \u001b[0mmissing_atom\u001b[0m\u001b[0;34m,\u001b[0m \u001b[0mmissing_bond\u001b[0m\u001b[0;34m\u001b[0m\u001b[0;34m\u001b[0m\u001b[0m\n\u001b[1;32m      8\u001b[0m \u001b[0;34m\u001b[0m\u001b[0m\n\u001b[0;32m----> 9\u001b[0;31m \u001b[0;32massert\u001b[0m \u001b[0;32mnot\u001b[0m \u001b[0mcheck_input\u001b[0m\u001b[0;34m(\u001b[0m\u001b[0minputs\u001b[0m\u001b[0;34m[\u001b[0m\u001b[0;36m0\u001b[0m\u001b[0;34m]\u001b[0m\u001b[0;34m)\u001b[0m\u001b[0;34m\u001b[0m\u001b[0;34m\u001b[0m\u001b[0m\n\u001b[0m",
      "\u001b[0;31mAssertionError\u001b[0m: "
     ]
    }
   ],
   "source": [
    "def check_input(iinput):\n",
    "    missing_bond = np.array(list(set(iinput['bond_indices'][iinput['bond'] == 1])))\n",
    "    missing_atom = np.arange(iinput['n_atom'])[iinput['atom'] == 1]\n",
    "    \n",
    "    is_outlier = (missing_bond.size != 0) | (missing_atom.size != 0)\n",
    "    \n",
    "    return is_outlier, missing_atom, missing_bond\n",
    "    \n",
    "assert not check_input(inputs[0])"
   ]
  },
  {
   "cell_type": "code",
   "execution_count": 98,
   "metadata": {},
   "outputs": [],
   "source": [
    "def draw_mol_outlier(smiles, missing_atoms, missing_bonds, figsize=(300, 300)):\n",
    "\n",
    "    mol = Chem.MolFromSmiles(smiles)\n",
    "    missing_bonds_adjusted = []\n",
    "    for bond_index in missing_bonds:\n",
    "\n",
    "        if bond_index >= mol.GetNumBonds():\n",
    "\n",
    "            molH = Chem.AddHs(mol)\n",
    "            bond = molH.GetBondWithIdx(int(bond_index))\n",
    "\n",
    "            start_atom = mol.GetAtomWithIdx(bond.GetBeginAtomIdx())\n",
    "            mol = Chem.AddHs(mol, onlyOnAtoms=[start_atom.GetIdx()])\n",
    "            bond_index = mol.GetNumBonds() - 1\n",
    "\n",
    "        missing_bonds_adjusted += [int(bond_index)]\n",
    "\n",
    "    if not mol.GetNumConformers():\n",
    "        rdDepictor.Compute2DCoords(mol)\n",
    "\n",
    "    drawer = rdMolDraw2D.MolDraw2DSVG(*figsize)\n",
    "    drawer.SetFontSize(.6)\n",
    "    drawer.DrawMolecule(\n",
    "        mol, \n",
    "        highlightAtoms=[int(index) for index in missing_atoms],\n",
    "        highlightBonds=missing_bonds_adjusted)\n",
    "\n",
    "    drawer.FinishDrawing()\n",
    "    svg = drawer.GetDrawingText()\n",
    "\n",
    "    svg = svg.replace('svg:', '').replace(':svg', '')\n",
    "\n",
    "    return svg"
   ]
  },
  {
   "cell_type": "code",
   "execution_count": 104,
   "metadata": {},
   "outputs": [
    {
     "data": {
      "image/svg+xml": [
       "<svg baseProfile=\"full\" height=\"300px\" version=\"1.1\" width=\"300px\" xml:space=\"preserve\" xmlns=\"http://www.w3.org/2000/svg\" xmlns:rdkit=\"http://www.rdkit.org/xml\" xmlns:xlink=\"http://www.w3.org/1999/xlink\">\n",
       "<rect height=\"300\" style=\"opacity:1.0;fill:#FFFFFF;stroke:none\" width=\"300\" x=\"0\" y=\"0\"> </rect>\n",
       "<path d=\"M 227.681,167.056 271.774,144.071\" style=\"fill:none;fill-rule:evenodd;stroke:#FF7F7F;stroke-width:16px;stroke-linecap:butt;stroke-linejoin:miter;stroke-opacity:1\"/>\n",
       "<ellipse cx=\"271.774\" cy=\"144.071\" rx=\"13.26\" ry=\"13.26\" style=\"fill:#FF7F7F;fill-rule:evenodd;stroke:#FF7F7F;stroke-width:1px;stroke-linecap:butt;stroke-linejoin:miter;stroke-opacity:1\"/>\n",
       "<path d=\"M 58.415,209.531 60.5565,159.852\" style=\"fill:none;fill-rule:evenodd;stroke:#000000;stroke-width:2px;stroke-linecap:butt;stroke-linejoin:miter;stroke-opacity:1\"/>\n",
       "<path d=\"M 48.4792,209.102 50.6208,159.424\" style=\"fill:none;fill-rule:evenodd;stroke:#000000;stroke-width:2px;stroke-linecap:butt;stroke-linejoin:miter;stroke-opacity:1\"/>\n",
       "<path d=\"M 55.5886,159.638 13.6364,132.944\" style=\"fill:none;fill-rule:evenodd;stroke:#000000;stroke-width:2px;stroke-linecap:butt;stroke-linejoin:miter;stroke-opacity:1\"/>\n",
       "<path d=\"M 55.5886,159.638 99.6824,136.653\" style=\"fill:none;fill-rule:evenodd;stroke:#000000;stroke-width:2px;stroke-linecap:butt;stroke-linejoin:miter;stroke-opacity:1\"/>\n",
       "<path d=\"M 99.6824,136.653 100.539,116.786\" style=\"fill:none;fill-rule:evenodd;stroke:#000000;stroke-width:2px;stroke-linecap:butt;stroke-linejoin:miter;stroke-opacity:1\"/>\n",
       "<path d=\"M 100.539,116.786 101.395,96.9193\" style=\"fill:none;fill-rule:evenodd;stroke:#FF0000;stroke-width:2px;stroke-linecap:butt;stroke-linejoin:miter;stroke-opacity:1\"/>\n",
       "<path d=\"M 99.6824,136.653 141.635,163.347\" style=\"fill:none;fill-rule:evenodd;stroke:#000000;stroke-width:2px;stroke-linecap:butt;stroke-linejoin:miter;stroke-opacity:1\"/>\n",
       "<path d=\"M 141.635,163.347 140.778,183.214\" style=\"fill:none;fill-rule:evenodd;stroke:#000000;stroke-width:2px;stroke-linecap:butt;stroke-linejoin:miter;stroke-opacity:1\"/>\n",
       "<path d=\"M 140.778,183.214 139.922,203.081\" style=\"fill:none;fill-rule:evenodd;stroke:#FF0000;stroke-width:2px;stroke-linecap:butt;stroke-linejoin:miter;stroke-opacity:1\"/>\n",
       "<path d=\"M 141.635,163.347 185.728,140.362\" style=\"fill:none;fill-rule:evenodd;stroke:#000000;stroke-width:2px;stroke-linecap:butt;stroke-linejoin:miter;stroke-opacity:1\"/>\n",
       "<path d=\"M 185.728,140.362 227.681,167.056\" style=\"fill:none;fill-rule:evenodd;stroke:#000000;stroke-width:2px;stroke-linecap:butt;stroke-linejoin:miter;stroke-opacity:1\"/>\n",
       "<path d=\"M 186.683,152.757 216.049,171.443\" style=\"fill:none;fill-rule:evenodd;stroke:#000000;stroke-width:2px;stroke-linecap:butt;stroke-linejoin:miter;stroke-opacity:1\"/>\n",
       "<path d=\"M 227.681,167.056 246.08,157.465\" style=\"fill:none;fill-rule:evenodd;stroke:#000000;stroke-width:2px;stroke-linecap:butt;stroke-linejoin:miter;stroke-opacity:1\"/>\n",
       "<path d=\"M 246.08,157.465 264.48,147.874\" style=\"fill:none;fill-rule:evenodd;stroke:#33CCCC;stroke-width:2px;stroke-linecap:butt;stroke-linejoin:miter;stroke-opacity:1\"/>\n",
       "<text style=\"font-size:19px;font-style:normal;font-weight:normal;fill-opacity:1;stroke:none;font-family:sans-serif;text-anchor:start;fill:#FF0000\" x=\"83.9158\" y=\"96.9193\"><tspan>OH</tspan></text>\n",
       "<text style=\"font-size:19px;font-style:normal;font-weight:normal;fill-opacity:1;stroke:none;font-family:sans-serif;text-anchor:start;fill:#FF0000\" x=\"121.585\" y=\"222.971\"><tspan>OH</tspan></text>\n",
       "<text style=\"font-size:19px;font-style:normal;font-weight:normal;fill-opacity:1;stroke:none;font-family:sans-serif;text-anchor:start;fill:#33CCCC\" x=\"264.48\" y=\"154.016\"><tspan>F</tspan></text>\n",
       "</svg>"
      ],
      "text/plain": [
       "<IPython.core.display.SVG object>"
      ]
     },
     "execution_count": 104,
     "metadata": {},
     "output_type": "execute_result"
    }
   ],
   "source": [
    "SVG(draw_mol_outlier(smiles, missing_atom, missing_bond))"
   ]
  },
  {
   "cell_type": "code",
   "execution_count": 101,
   "metadata": {},
   "outputs": [
    {
     "data": {
      "text/plain": [
       "array([9])"
      ]
     },
     "execution_count": 101,
     "metadata": {},
     "output_type": "execute_result"
    }
   ],
   "source": [
    "missing_atom"
   ]
  },
  {
   "cell_type": "code",
   "execution_count": 102,
   "metadata": {},
   "outputs": [
    {
     "data": {
      "text/plain": [
       "array([8])"
      ]
     },
     "execution_count": 102,
     "metadata": {},
     "output_type": "execute_result"
    }
   ],
   "source": [
    "missing_bond"
   ]
  },
  {
   "cell_type": "code",
   "execution_count": 81,
   "metadata": {},
   "outputs": [],
   "source": [
    "mol = Chem.MolFromSmiles(smiles)\n",
    "molH = Chem.AddHs(mol)"
   ]
  },
  {
   "cell_type": "code",
   "execution_count": 82,
   "metadata": {},
   "outputs": [
    {
     "data": {
      "text/plain": [
       "20"
      ]
     },
     "execution_count": 82,
     "metadata": {},
     "output_type": "execute_result"
    }
   ],
   "source": [
    "molH.GetNumBonds()"
   ]
  },
  {
   "cell_type": "code",
   "execution_count": 83,
   "metadata": {},
   "outputs": [
    {
     "data": {
      "text/plain": [
       "'C=C(C)[C@H](O)[C@H](O)/C=C/F'"
      ]
     },
     "execution_count": 83,
     "metadata": {},
     "output_type": "execute_result"
    }
   ],
   "source": [
    "smiles"
   ]
  },
  {
   "cell_type": "code",
   "execution_count": 80,
   "metadata": {},
   "outputs": [
    {
     "data": {
      "text/plain": [
       "array([9])"
      ]
     },
     "execution_count": 80,
     "metadata": {},
     "output_type": "execute_result"
    }
   ],
   "source": [
    "missing_atom"
   ]
  },
  {
   "cell_type": "code",
   "execution_count": 79,
   "metadata": {},
   "outputs": [
    {
     "data": {
      "text/plain": [
       "array([26, 28])"
      ]
     },
     "execution_count": 79,
     "metadata": {},
     "output_type": "execute_result"
    }
   ],
   "source": [
    "missing_bond"
   ]
  },
  {
   "cell_type": "code",
   "execution_count": 100,
   "metadata": {},
   "outputs": [],
   "source": [
    "iinput = inputs[0]\n",
    "missing_bond = np.array(list(set(iinput['bond_indices'][iinput['bond'] == 1])))\n",
    "missing_atom = np.arange(iinput['n_atom'])[iinput['atom'] == 1]"
   ]
  },
  {
   "cell_type": "code",
   "execution_count": 89,
   "metadata": {},
   "outputs": [
    {
     "data": {
      "text/plain": [
       "{8}"
      ]
     },
     "execution_count": 89,
     "metadata": {},
     "output_type": "execute_result"
    }
   ],
   "source": []
  },
  {
   "cell_type": "code",
   "execution_count": 59,
   "metadata": {},
   "outputs": [
    {
     "data": {
      "text/plain": [
       "2"
      ]
     },
     "execution_count": 59,
     "metadata": {},
     "output_type": "execute_result"
    }
   ],
   "source": [
    "missing_bond.size"
   ]
  },
  {
   "cell_type": "code",
   "execution_count": 58,
   "metadata": {},
   "outputs": [],
   "source": [
    "if missing_bond.size == 0:\n",
    "    print(True)"
   ]
  },
  {
   "cell_type": "code",
   "execution_count": 50,
   "metadata": {},
   "outputs": [
    {
     "ename": "NameError",
     "evalue": "name 'missing_atom' is not defined",
     "output_type": "error",
     "traceback": [
      "\u001b[0;31m---------------------------------------------------------------------------\u001b[0m",
      "\u001b[0;31mNameError\u001b[0m                                 Traceback (most recent call last)",
      "\u001b[0;32m<ipython-input-50-874f7211ba6c>\u001b[0m in \u001b[0;36m<module>\u001b[0;34m\u001b[0m\n\u001b[0;32m----> 1\u001b[0;31m \u001b[0mmissing_atom\u001b[0m\u001b[0;34m\u001b[0m\u001b[0;34m\u001b[0m\u001b[0m\n\u001b[0m",
      "\u001b[0;31mNameError\u001b[0m: name 'missing_atom' is not defined"
     ]
    }
   ],
   "source": []
  },
  {
   "cell_type": "code",
   "execution_count": 11,
   "metadata": {},
   "outputs": [
    {
     "name": "stdout",
     "output_type": "stream",
     "text": [
      "Model: \"graphmodel_1\"\n",
      "__________________________________________________________________________________________________\n",
      "Layer (type)                    Output Shape         Param #     Connected to                     \n",
      "==================================================================================================\n",
      "bond (InputLayer)               (None, 1)            0                                            \n",
      "__________________________________________________________________________________________________\n",
      "atom (InputLayer)               (None, 1)            0                                            \n",
      "__________________________________________________________________________________________________\n",
      "squeeze_1 (Squeeze)             (None,)              0           atom[0][0]                       \n",
      "                                                                 bond[0][0]                       \n",
      "__________________________________________________________________________________________________\n",
      "atom_embedding (Embedding)      (None, 128)          12672       squeeze_1[0][0]                  \n",
      "__________________________________________________________________________________________________\n",
      "batch_normalization_1 (BatchNor (None, 128)          512         atom_embedding[0][0]             \n",
      "__________________________________________________________________________________________________\n",
      "connectivity (InputLayer)       (None, 2)            0                                            \n",
      "__________________________________________________________________________________________________\n",
      "bond_embedding (Embedding)      (None, 128)          13312       squeeze_1[1][0]                  \n",
      "__________________________________________________________________________________________________\n",
      "gather_atom_to_bond_1 (GatherAt (None, 128)          0           batch_normalization_1[0][0]      \n",
      "                                                                 connectivity[0][0]               \n",
      "__________________________________________________________________________________________________\n",
      "batch_normalization_2 (BatchNor (None, 128)          512         bond_embedding[0][0]             \n",
      "__________________________________________________________________________________________________\n",
      "dense_3 (Dense)                 (None, 128)          16512       gather_atom_to_bond_1[0][0]      \n",
      "__________________________________________________________________________________________________\n",
      "multiply_1 (Multiply)           (None, 128)          0           dense_3[0][0]                    \n",
      "                                                                 batch_normalization_2[0][0]      \n",
      "__________________________________________________________________________________________________\n",
      "reduce_bond_to_atom_1 (ReduceBo (None, 128)          0           multiply_1[0][0]                 \n",
      "                                                                 connectivity[0][0]               \n",
      "__________________________________________________________________________________________________\n",
      "gather_atom_to_bond_2 (GatherAt (None, 128)          0           batch_normalization_1[0][0]      \n",
      "                                                                 connectivity[0][0]               \n",
      "__________________________________________________________________________________________________\n",
      "dense_4 (Dense)                 (None, 128)          16512       reduce_bond_to_atom_1[0][0]      \n",
      "__________________________________________________________________________________________________\n",
      "concat_0 (Concatenate)          (None, 384)          0           gather_atom_to_bond_1[0][0]      \n",
      "                                                                 gather_atom_to_bond_2[0][0]      \n",
      "                                                                 batch_normalization_2[0][0]      \n",
      "__________________________________________________________________________________________________\n",
      "dense_5 (Dense)                 (None, 128)          16512       dense_4[0][0]                    \n",
      "__________________________________________________________________________________________________\n",
      "dense_1 (Dense)                 (None, 256)          98560       concat_0[0][0]                   \n",
      "__________________________________________________________________________________________________\n",
      "add_1 (Add)                     (None, 128)          0           atom_embedding[0][0]             \n",
      "                                                                 dense_5[0][0]                    \n",
      "__________________________________________________________________________________________________\n",
      "dense_2 (Dense)                 (None, 128)          32896       dense_1[0][0]                    \n",
      "__________________________________________________________________________________________________\n",
      "batch_normalization_3 (BatchNor (None, 128)          512         add_1[0][0]                      \n",
      "__________________________________________________________________________________________________\n",
      "add_2 (Add)                     (None, 128)          0           bond_embedding[0][0]             \n",
      "                                                                 dense_2[0][0]                    \n",
      "__________________________________________________________________________________________________\n",
      "gather_atom_to_bond_3 (GatherAt (None, 128)          0           batch_normalization_3[0][0]      \n",
      "                                                                 connectivity[0][0]               \n",
      "__________________________________________________________________________________________________\n",
      "batch_normalization_4 (BatchNor (None, 128)          512         add_2[0][0]                      \n",
      "__________________________________________________________________________________________________\n",
      "dense_8 (Dense)                 (None, 128)          16512       gather_atom_to_bond_3[0][0]      \n",
      "__________________________________________________________________________________________________\n",
      "multiply_2 (Multiply)           (None, 128)          0           dense_8[0][0]                    \n",
      "                                                                 batch_normalization_4[0][0]      \n",
      "__________________________________________________________________________________________________\n",
      "reduce_bond_to_atom_2 (ReduceBo (None, 128)          0           multiply_2[0][0]                 \n",
      "                                                                 connectivity[0][0]               \n",
      "__________________________________________________________________________________________________\n",
      "gather_atom_to_bond_4 (GatherAt (None, 128)          0           batch_normalization_3[0][0]      \n",
      "                                                                 connectivity[0][0]               \n",
      "__________________________________________________________________________________________________\n",
      "dense_9 (Dense)                 (None, 128)          16512       reduce_bond_to_atom_2[0][0]      \n",
      "__________________________________________________________________________________________________\n",
      "concat_1 (Concatenate)          (None, 384)          0           gather_atom_to_bond_3[0][0]      \n",
      "                                                                 gather_atom_to_bond_4[0][0]      \n",
      "                                                                 batch_normalization_4[0][0]      \n",
      "__________________________________________________________________________________________________\n",
      "dense_10 (Dense)                (None, 128)          16512       dense_9[0][0]                    \n",
      "__________________________________________________________________________________________________\n",
      "dense_6 (Dense)                 (None, 256)          98560       concat_1[0][0]                   \n",
      "__________________________________________________________________________________________________\n",
      "add_3 (Add)                     (None, 128)          0           add_1[0][0]                      \n",
      "                                                                 dense_10[0][0]                   \n",
      "__________________________________________________________________________________________________\n",
      "dense_7 (Dense)                 (None, 128)          32896       dense_6[0][0]                    \n",
      "__________________________________________________________________________________________________\n",
      "batch_normalization_5 (BatchNor (None, 128)          512         add_3[0][0]                      \n",
      "__________________________________________________________________________________________________\n",
      "add_4 (Add)                     (None, 128)          0           add_2[0][0]                      \n",
      "                                                                 dense_7[0][0]                    \n",
      "__________________________________________________________________________________________________\n",
      "gather_atom_to_bond_5 (GatherAt (None, 128)          0           batch_normalization_5[0][0]      \n",
      "                                                                 connectivity[0][0]               \n",
      "__________________________________________________________________________________________________\n",
      "batch_normalization_6 (BatchNor (None, 128)          512         add_4[0][0]                      \n",
      "__________________________________________________________________________________________________\n",
      "dense_13 (Dense)                (None, 128)          16512       gather_atom_to_bond_5[0][0]      \n",
      "__________________________________________________________________________________________________\n",
      "multiply_3 (Multiply)           (None, 128)          0           dense_13[0][0]                   \n",
      "                                                                 batch_normalization_6[0][0]      \n",
      "__________________________________________________________________________________________________\n",
      "reduce_bond_to_atom_3 (ReduceBo (None, 128)          0           multiply_3[0][0]                 \n",
      "                                                                 connectivity[0][0]               \n",
      "__________________________________________________________________________________________________\n",
      "gather_atom_to_bond_6 (GatherAt (None, 128)          0           batch_normalization_5[0][0]      \n",
      "                                                                 connectivity[0][0]               \n",
      "__________________________________________________________________________________________________\n",
      "dense_14 (Dense)                (None, 128)          16512       reduce_bond_to_atom_3[0][0]      \n",
      "__________________________________________________________________________________________________\n",
      "concat_2 (Concatenate)          (None, 384)          0           gather_atom_to_bond_5[0][0]      \n",
      "                                                                 gather_atom_to_bond_6[0][0]      \n",
      "                                                                 batch_normalization_6[0][0]      \n",
      "__________________________________________________________________________________________________\n",
      "dense_15 (Dense)                (None, 128)          16512       dense_14[0][0]                   \n",
      "__________________________________________________________________________________________________\n",
      "dense_11 (Dense)                (None, 256)          98560       concat_2[0][0]                   \n",
      "__________________________________________________________________________________________________\n",
      "add_5 (Add)                     (None, 128)          0           add_3[0][0]                      \n",
      "                                                                 dense_15[0][0]                   \n",
      "__________________________________________________________________________________________________\n",
      "dense_12 (Dense)                (None, 128)          32896       dense_11[0][0]                   \n",
      "__________________________________________________________________________________________________\n",
      "batch_normalization_7 (BatchNor (None, 128)          512         add_5[0][0]                      \n",
      "__________________________________________________________________________________________________\n",
      "add_6 (Add)                     (None, 128)          0           add_4[0][0]                      \n",
      "                                                                 dense_12[0][0]                   \n",
      "__________________________________________________________________________________________________\n",
      "gather_atom_to_bond_7 (GatherAt (None, 128)          0           batch_normalization_7[0][0]      \n",
      "                                                                 connectivity[0][0]               \n",
      "__________________________________________________________________________________________________\n",
      "batch_normalization_8 (BatchNor (None, 128)          512         add_6[0][0]                      \n",
      "__________________________________________________________________________________________________\n",
      "dense_18 (Dense)                (None, 128)          16512       gather_atom_to_bond_7[0][0]      \n",
      "__________________________________________________________________________________________________\n",
      "multiply_4 (Multiply)           (None, 128)          0           dense_18[0][0]                   \n",
      "                                                                 batch_normalization_8[0][0]      \n",
      "__________________________________________________________________________________________________\n",
      "reduce_bond_to_atom_4 (ReduceBo (None, 128)          0           multiply_4[0][0]                 \n",
      "                                                                 connectivity[0][0]               \n",
      "__________________________________________________________________________________________________\n",
      "gather_atom_to_bond_8 (GatherAt (None, 128)          0           batch_normalization_7[0][0]      \n",
      "                                                                 connectivity[0][0]               \n",
      "__________________________________________________________________________________________________\n",
      "dense_19 (Dense)                (None, 128)          16512       reduce_bond_to_atom_4[0][0]      \n",
      "__________________________________________________________________________________________________\n",
      "concat_3 (Concatenate)          (None, 384)          0           gather_atom_to_bond_7[0][0]      \n",
      "                                                                 gather_atom_to_bond_8[0][0]      \n",
      "                                                                 batch_normalization_8[0][0]      \n",
      "__________________________________________________________________________________________________\n",
      "dense_20 (Dense)                (None, 128)          16512       dense_19[0][0]                   \n",
      "__________________________________________________________________________________________________\n",
      "dense_16 (Dense)                (None, 256)          98560       concat_3[0][0]                   \n",
      "__________________________________________________________________________________________________\n",
      "add_7 (Add)                     (None, 128)          0           add_5[0][0]                      \n",
      "                                                                 dense_20[0][0]                   \n",
      "__________________________________________________________________________________________________\n",
      "dense_17 (Dense)                (None, 128)          32896       dense_16[0][0]                   \n",
      "__________________________________________________________________________________________________\n",
      "batch_normalization_9 (BatchNor (None, 128)          512         add_7[0][0]                      \n",
      "__________________________________________________________________________________________________\n",
      "add_8 (Add)                     (None, 128)          0           add_6[0][0]                      \n",
      "                                                                 dense_17[0][0]                   \n",
      "__________________________________________________________________________________________________\n",
      "gather_atom_to_bond_9 (GatherAt (None, 128)          0           batch_normalization_9[0][0]      \n",
      "                                                                 connectivity[0][0]               \n",
      "__________________________________________________________________________________________________\n",
      "batch_normalization_10 (BatchNo (None, 128)          512         add_8[0][0]                      \n",
      "__________________________________________________________________________________________________\n",
      "dense_23 (Dense)                (None, 128)          16512       gather_atom_to_bond_9[0][0]      \n",
      "__________________________________________________________________________________________________\n",
      "multiply_5 (Multiply)           (None, 128)          0           dense_23[0][0]                   \n",
      "                                                                 batch_normalization_10[0][0]     \n",
      "__________________________________________________________________________________________________\n",
      "gather_atom_to_bond_10 (GatherA (None, 128)          0           batch_normalization_9[0][0]      \n",
      "                                                                 connectivity[0][0]               \n",
      "__________________________________________________________________________________________________\n",
      "reduce_bond_to_atom_5 (ReduceBo (None, 128)          0           multiply_5[0][0]                 \n",
      "                                                                 connectivity[0][0]               \n",
      "__________________________________________________________________________________________________\n",
      "concat_4 (Concatenate)          (None, 384)          0           gather_atom_to_bond_9[0][0]      \n",
      "                                                                 gather_atom_to_bond_10[0][0]     \n",
      "                                                                 batch_normalization_10[0][0]     \n",
      "__________________________________________________________________________________________________\n",
      "dense_24 (Dense)                (None, 128)          16512       reduce_bond_to_atom_5[0][0]      \n",
      "__________________________________________________________________________________________________\n",
      "dense_21 (Dense)                (None, 256)          98560       concat_4[0][0]                   \n",
      "__________________________________________________________________________________________________\n",
      "dense_25 (Dense)                (None, 128)          16512       dense_24[0][0]                   \n",
      "__________________________________________________________________________________________________\n",
      "dense_22 (Dense)                (None, 128)          32896       dense_21[0][0]                   \n",
      "__________________________________________________________________________________________________\n",
      "add_9 (Add)                     (None, 128)          0           add_7[0][0]                      \n",
      "                                                                 dense_25[0][0]                   \n",
      "__________________________________________________________________________________________________\n",
      "add_10 (Add)                    (None, 128)          0           add_8[0][0]                      \n",
      "                                                                 dense_22[0][0]                   \n",
      "__________________________________________________________________________________________________\n",
      "batch_normalization_11 (BatchNo (None, 128)          512         add_9[0][0]                      \n",
      "__________________________________________________________________________________________________\n",
      "gather_atom_to_bond_11 (GatherA (None, 128)          0           batch_normalization_11[0][0]     \n",
      "                                                                 connectivity[0][0]               \n",
      "__________________________________________________________________________________________________\n",
      "gather_atom_to_bond_12 (GatherA (None, 128)          0           batch_normalization_11[0][0]     \n",
      "                                                                 connectivity[0][0]               \n",
      "__________________________________________________________________________________________________\n",
      "batch_normalization_12 (BatchNo (None, 128)          512         add_10[0][0]                     \n",
      "__________________________________________________________________________________________________\n",
      "concat_5 (Concatenate)          (None, 384)          0           gather_atom_to_bond_11[0][0]     \n",
      "                                                                 gather_atom_to_bond_12[0][0]     \n",
      "                                                                 batch_normalization_12[0][0]     \n",
      "__________________________________________________________________________________________________\n",
      "dense_26 (Dense)                (None, 256)          98560       concat_5[0][0]                   \n",
      "__________________________________________________________________________________________________\n",
      "dense_27 (Dense)                (None, 128)          32896       dense_26[0][0]                   \n",
      "__________________________________________________________________________________________________\n",
      "add_12 (Add)                    (None, 128)          0           add_10[0][0]                     \n",
      "                                                                 dense_27[0][0]                   \n",
      "__________________________________________________________________________________________________\n",
      "dense_31 (Dense)                (None, 1)            129         add_12[0][0]                     \n",
      "__________________________________________________________________________________________________\n",
      "bond_mean (Embedding)           (None, 1)            104         squeeze_1[1][0]                  \n",
      "__________________________________________________________________________________________________\n",
      "add_13 (Add)                    (None, 1)            0           dense_31[0][0]                   \n",
      "                                                                 bond_mean[0][0]                  \n",
      "==================================================================================================\n",
      "Total params: 1,068,777\n",
      "Trainable params: 1,065,705\n",
      "Non-trainable params: 3,072\n",
      "__________________________________________________________________________________________________\n"
     ]
    }
   ],
   "source": [
    "\n",
    "with warnings.catch_warnings():\n",
    "    warnings.simplefilter('ignore')\n",
    "    model = load_model('model_files/best_model.hdf5', custom_objects=custom_layers)\n",
    "    \n",
    "model.summary()"
   ]
  },
  {
   "cell_type": "code",
   "execution_count": 12,
   "metadata": {},
   "outputs": [],
   "source": [
    "pred = model.predict_generator(\n",
    "    ConcatGraphSequence(inputs, batch_size=1, shuffle=False), verbose=0)"
   ]
  },
  {
   "cell_type": "code",
   "execution_count": 25,
   "metadata": {},
   "outputs": [],
   "source": [
    "bde_df = pd.DataFrame(inputs[0]['bond_indices'], columns=['bond_index'])\n",
    "bde_df['bde_pred'] = pred\n",
    "bde_df = bde_df.groupby('bond_index').mean().reset_index()\n",
    "\n",
    "pred_df = frag_df.merge(bde_df, on=['bond_index'], how='left')\n",
    "pred_df = pred_df.sort_values('bde_pred').drop_duplicates(\n",
    "    ['fragment1', 'fragment2']).reset_index()"
   ]
  },
  {
   "cell_type": "code",
   "execution_count": 36,
   "metadata": {},
   "outputs": [
    {
     "data": {
      "text/plain": [
       "0     <IPython.core.display.SVG object>\n",
       "1     <IPython.core.display.SVG object>\n",
       "2     <IPython.core.display.SVG object>\n",
       "3     <IPython.core.display.SVG object>\n",
       "4     <IPython.core.display.SVG object>\n",
       "5     <IPython.core.display.SVG object>\n",
       "6     <IPython.core.display.SVG object>\n",
       "7     <IPython.core.display.SVG object>\n",
       "8     <IPython.core.display.SVG object>\n",
       "9     <IPython.core.display.SVG object>\n",
       "10    <IPython.core.display.SVG object>\n",
       "11    <IPython.core.display.SVG object>\n",
       "12    <IPython.core.display.SVG object>\n",
       "13    <IPython.core.display.SVG object>\n",
       "dtype: object"
      ]
     },
     "execution_count": 36,
     "metadata": {},
     "output_type": "execute_result"
    }
   ],
   "source": [
    "pred_df['svg'] = pred_df.apply(lambda x: draw_bde(x.molecule, x.bond_index), 1)"
   ]
  },
  {
   "cell_type": "code",
   "execution_count": 32,
   "metadata": {},
   "outputs": [],
   "source": [
    "from rdkit import Chem\n",
    "from rdkit.Chem import rdDepictor\n",
    "from rdkit.Chem.Draw import rdMolDraw2D\n",
    "from IPython.display import SVG\n",
    "\n",
    "def draw_bde(smiles, bond_index, figsize=(300, 300)):\n",
    "    \n",
    "    mol = Chem.MolFromSmiles(smiles)\n",
    "    bond_index = int(bond_index)\n",
    "\n",
    "    if bond_index >= mol.GetNumBonds():\n",
    "\n",
    "        molH = Chem.AddHs(mol)\n",
    "        bond = molH.GetBondWithIdx(bond_index)\n",
    "\n",
    "        start_atom = mol.GetAtomWithIdx(bond.GetBeginAtomIdx())\n",
    "        mol = Chem.AddHs(mol, onlyOnAtoms=[start_atom.GetIdx()])\n",
    "        bond_index = mol.GetNumBonds() - 1\n",
    "\n",
    "    bond = mol.GetBondWithIdx(bond_index)\n",
    "    if not mol.GetNumConformers():\n",
    "        rdDepictor.Compute2DCoords(mol)\n",
    "\n",
    "    drawer = rdMolDraw2D.MolDraw2DSVG(*figsize)\n",
    "    drawer.SetFontSize(.6)\n",
    "    drawer.DrawMolecule(mol, highlightAtoms=[], highlightBonds=[bond_index,])\n",
    "\n",
    "    drawer.FinishDrawing()\n",
    "    svg = drawer.GetDrawingText()\n",
    "\n",
    "    svg = svg.replace('svg:', '').replace(':svg', '')\n",
    "    \n",
    "    return SVG(svg)"
   ]
  },
  {
   "cell_type": "code",
   "execution_count": 33,
   "metadata": {},
   "outputs": [
    {
     "data": {
      "image/svg+xml": [
       "<svg baseProfile=\"full\" height=\"300px\" version=\"1.1\" width=\"300px\" xml:space=\"preserve\" xmlns=\"http://www.w3.org/2000/svg\" xmlns:rdkit=\"http://www.rdkit.org/xml\" xmlns:xlink=\"http://www.w3.org/1999/xlink\">\n",
       "<rect height=\"300\" style=\"opacity:1.0;fill:#FFFFFF;stroke:none\" width=\"300\" x=\"0\" y=\"0\"> </rect>\n",
       "<path d=\"M 233.032,151.919 271.656,134.372\" style=\"fill:none;fill-rule:evenodd;stroke:#FF7F7F;stroke-width:16px;stroke-linecap:butt;stroke-linejoin:miter;stroke-opacity:1\"/>\n",
       "<path d=\"M 48.251,197.843 52.3667,155.621\" style=\"fill:none;fill-rule:evenodd;stroke:#000000;stroke-width:2px;stroke-linecap:butt;stroke-linejoin:miter;stroke-opacity:1\"/>\n",
       "<path d=\"M 39.8064,197.02 43.9222,154.798\" style=\"fill:none;fill-rule:evenodd;stroke:#000000;stroke-width:2px;stroke-linecap:butt;stroke-linejoin:miter;stroke-opacity:1\"/>\n",
       "<path d=\"M 48.1444,155.209 13.6364,130.533\" style=\"fill:none;fill-rule:evenodd;stroke:#000000;stroke-width:2px;stroke-linecap:butt;stroke-linejoin:miter;stroke-opacity:1\"/>\n",
       "<path d=\"M 48.1444,155.209 86.7682,137.662\" style=\"fill:none;fill-rule:evenodd;stroke:#000000;stroke-width:2px;stroke-linecap:butt;stroke-linejoin:miter;stroke-opacity:1\"/>\n",
       "<path d=\"M 86.7682,137.662 88.4126,120.793\" style=\"fill:none;fill-rule:evenodd;stroke:#000000;stroke-width:2px;stroke-linecap:butt;stroke-linejoin:miter;stroke-opacity:1\"/>\n",
       "<path d=\"M 88.4126,120.793 90.0569,103.924\" style=\"fill:none;fill-rule:evenodd;stroke:#FF0000;stroke-width:2px;stroke-linecap:butt;stroke-linejoin:miter;stroke-opacity:1\"/>\n",
       "<path d=\"M 86.7682,137.662 121.276,162.338\" style=\"fill:none;fill-rule:evenodd;stroke:#000000;stroke-width:2px;stroke-linecap:butt;stroke-linejoin:miter;stroke-opacity:1\"/>\n",
       "<path d=\"M 121.276,162.338 119.632,179.207\" style=\"fill:none;fill-rule:evenodd;stroke:#000000;stroke-width:2px;stroke-linecap:butt;stroke-linejoin:miter;stroke-opacity:1\"/>\n",
       "<path d=\"M 119.632,179.207 117.988,196.076\" style=\"fill:none;fill-rule:evenodd;stroke:#FF0000;stroke-width:2px;stroke-linecap:butt;stroke-linejoin:miter;stroke-opacity:1\"/>\n",
       "<path d=\"M 121.276,162.338 159.9,144.791\" style=\"fill:none;fill-rule:evenodd;stroke:#000000;stroke-width:2px;stroke-linecap:butt;stroke-linejoin:miter;stroke-opacity:1\"/>\n",
       "<path d=\"M 159.9,144.791 194.408,169.467\" style=\"fill:none;fill-rule:evenodd;stroke:#000000;stroke-width:2px;stroke-linecap:butt;stroke-linejoin:miter;stroke-opacity:1\"/>\n",
       "<path d=\"M 160.141,155.394 184.297,172.667\" style=\"fill:none;fill-rule:evenodd;stroke:#000000;stroke-width:2px;stroke-linecap:butt;stroke-linejoin:miter;stroke-opacity:1\"/>\n",
       "<path d=\"M 194.408,169.467 233.032,151.919\" style=\"fill:none;fill-rule:evenodd;stroke:#000000;stroke-width:2px;stroke-linecap:butt;stroke-linejoin:miter;stroke-opacity:1\"/>\n",
       "<path d=\"M 233.032,151.919 246.724,182.059\" style=\"fill:none;fill-rule:evenodd;stroke:#000000;stroke-width:2px;stroke-linecap:butt;stroke-linejoin:miter;stroke-opacity:1\"/>\n",
       "<path d=\"M 233.032,151.919 219.339,121.78\" style=\"fill:none;fill-rule:evenodd;stroke:#000000;stroke-width:2px;stroke-linecap:butt;stroke-linejoin:miter;stroke-opacity:1\"/>\n",
       "<path d=\"M 233.032,151.919 264.302,137.713\" style=\"fill:none;fill-rule:evenodd;stroke:#000000;stroke-width:2px;stroke-linecap:butt;stroke-linejoin:miter;stroke-opacity:1\"/>\n",
       "<text style=\"font-size:16px;font-style:normal;font-weight:normal;fill-opacity:1;stroke:none;font-family:sans-serif;text-anchor:start;fill:#FF0000\" x=\"75.6056\" y=\"103.924\"><tspan>OH</tspan></text>\n",
       "<text style=\"font-size:16px;font-style:normal;font-weight:normal;fill-opacity:1;stroke:none;font-family:sans-serif;text-anchor:start;fill:#FF0000\" x=\"101.882\" y=\"213.045\"><tspan>OH</tspan></text>\n",
       "<text style=\"font-size:16px;font-style:normal;font-weight:normal;fill-opacity:1;stroke:none;font-family:sans-serif;text-anchor:start;fill:#000000\" x=\"243.225\" y=\"199.028\"><tspan>H</tspan></text>\n",
       "<text style=\"font-size:16px;font-style:normal;font-weight:normal;fill-opacity:1;stroke:none;font-family:sans-serif;text-anchor:start;fill:#000000\" x=\"208.131\" y=\"121.78\"><tspan>H</tspan></text>\n",
       "<text style=\"font-size:16px;font-style:normal;font-weight:normal;fill-opacity:1;stroke:none;font-family:sans-serif;text-anchor:start;fill:#000000\" x=\"264.302\" y=\"142.857\"><tspan>H</tspan></text>\n",
       "</svg>"
      ],
      "text/plain": [
       "<IPython.core.display.SVG object>"
      ]
     },
     "execution_count": 33,
     "metadata": {},
     "output_type": "execute_result"
    }
   ],
   "source": [
    "draw_bde(smiles, 21)"
   ]
  },
  {
   "cell_type": "code",
   "execution_count": 34,
   "metadata": {},
   "outputs": [],
   "source": [
    "def draw_mol(smiles, figsize=(300, 300)):\n",
    "    \n",
    "    mol = Chem.MolFromSmiles(smiles)\n",
    "    rdDepictor.Compute2DCoords(mol)\n",
    "\n",
    "    drawer = rdMolDraw2D.MolDraw2DSVG(*figsize)\n",
    "    drawer.SetFontSize(.6)\n",
    "    drawer.DrawMolecule(mol)\n",
    "\n",
    "    drawer.FinishDrawing()\n",
    "    svg = drawer.GetDrawingText()\n",
    "\n",
    "    svg = svg.replace('svg:', '').replace(':svg', '')\n",
    "    \n",
    "    return SVG(svg)"
   ]
  },
  {
   "cell_type": "code",
   "execution_count": 35,
   "metadata": {},
   "outputs": [
    {
     "data": {
      "image/svg+xml": [
       "<svg baseProfile=\"full\" height=\"300px\" version=\"1.1\" width=\"300px\" xml:space=\"preserve\" xmlns=\"http://www.w3.org/2000/svg\" xmlns:rdkit=\"http://www.rdkit.org/xml\" xmlns:xlink=\"http://www.w3.org/1999/xlink\">\n",
       "<rect height=\"300\" style=\"opacity:1.0;fill:#FFFFFF;stroke:none\" width=\"300\" x=\"0\" y=\"0\"> </rect>\n",
       "<path d=\"M 60.9457,212.895 63.2083,160.409\" style=\"fill:none;fill-rule:evenodd;stroke:#000000;stroke-width:2px;stroke-linecap:butt;stroke-linejoin:miter;stroke-opacity:1\"/>\n",
       "<path d=\"M 50.4484,212.443 52.711,159.956\" style=\"fill:none;fill-rule:evenodd;stroke:#000000;stroke-width:2px;stroke-linecap:butt;stroke-linejoin:miter;stroke-opacity:1\"/>\n",
       "<path d=\"M 57.9596,160.182 13.6364,131.98\" style=\"fill:none;fill-rule:evenodd;stroke:#000000;stroke-width:2px;stroke-linecap:butt;stroke-linejoin:miter;stroke-opacity:1\"/>\n",
       "<path d=\"M 57.9596,160.182 104.545,135.899\" style=\"fill:none;fill-rule:evenodd;stroke:#000000;stroke-width:2px;stroke-linecap:butt;stroke-linejoin:miter;stroke-opacity:1\"/>\n",
       "<path d=\"M 104.545,135.899 105.45,114.909\" style=\"fill:none;fill-rule:evenodd;stroke:#000000;stroke-width:2px;stroke-linecap:butt;stroke-linejoin:miter;stroke-opacity:1\"/>\n",
       "<path d=\"M 105.45,114.909 106.355,93.9193\" style=\"fill:none;fill-rule:evenodd;stroke:#FF0000;stroke-width:2px;stroke-linecap:butt;stroke-linejoin:miter;stroke-opacity:1\"/>\n",
       "<path d=\"M 104.545,135.899 148.869,164.101\" style=\"fill:none;fill-rule:evenodd;stroke:#000000;stroke-width:2px;stroke-linecap:butt;stroke-linejoin:miter;stroke-opacity:1\"/>\n",
       "<path d=\"M 148.869,164.101 147.964,185.091\" style=\"fill:none;fill-rule:evenodd;stroke:#000000;stroke-width:2px;stroke-linecap:butt;stroke-linejoin:miter;stroke-opacity:1\"/>\n",
       "<path d=\"M 147.964,185.091 147.059,206.081\" style=\"fill:none;fill-rule:evenodd;stroke:#FF0000;stroke-width:2px;stroke-linecap:butt;stroke-linejoin:miter;stroke-opacity:1\"/>\n",
       "<path d=\"M 148.869,164.101 195.455,139.818\" style=\"fill:none;fill-rule:evenodd;stroke:#000000;stroke-width:2px;stroke-linecap:butt;stroke-linejoin:miter;stroke-opacity:1\"/>\n",
       "<path d=\"M 195.455,139.818 239.778,168.02\" style=\"fill:none;fill-rule:evenodd;stroke:#000000;stroke-width:2px;stroke-linecap:butt;stroke-linejoin:miter;stroke-opacity:1\"/>\n",
       "<path d=\"M 196.463,152.913 227.489,172.654\" style=\"fill:none;fill-rule:evenodd;stroke:#000000;stroke-width:2px;stroke-linecap:butt;stroke-linejoin:miter;stroke-opacity:1\"/>\n",
       "<path d=\"M 239.778,168.02 286.364,143.736\" style=\"fill:none;fill-rule:evenodd;stroke:#000000;stroke-width:2px;stroke-linecap:butt;stroke-linejoin:miter;stroke-opacity:1\"/>\n",
       "<text style=\"font-size:21px;font-style:normal;font-weight:normal;fill-opacity:1;stroke:none;font-family:sans-serif;text-anchor:start;fill:#FF0000\" x=\"87.8878\" y=\"93.9193\"><tspan>OH</tspan></text>\n",
       "<text style=\"font-size:21px;font-style:normal;font-weight:normal;fill-opacity:1;stroke:none;font-family:sans-serif;text-anchor:start;fill:#FF0000\" x=\"127.686\" y=\"227.095\"><tspan>OH</tspan></text>\n",
       "</svg>"
      ],
      "text/plain": [
       "<IPython.core.display.SVG object>"
      ]
     },
     "execution_count": 35,
     "metadata": {},
     "output_type": "execute_result"
    }
   ],
   "source": [
    "draw_mol(smiles)"
   ]
  },
  {
   "cell_type": "code",
   "execution_count": null,
   "metadata": {},
   "outputs": [],
   "source": []
  }
 ],
 "metadata": {
  "kernelspec": {
   "display_name": "Python 3",
   "language": "python",
   "name": "python3"
  },
  "language_info": {
   "codemirror_mode": {
    "name": "ipython",
    "version": 3
   },
   "file_extension": ".py",
   "mimetype": "text/x-python",
   "name": "python",
   "nbconvert_exporter": "python",
   "pygments_lexer": "ipython3",
   "version": "3.6.7"
  }
 },
 "nbformat": 4,
 "nbformat_minor": 2
}
