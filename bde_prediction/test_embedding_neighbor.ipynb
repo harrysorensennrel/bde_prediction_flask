{
 "cells": [
  {
   "cell_type": "code",
   "execution_count": 1,
   "metadata": {},
   "outputs": [],
   "source": [
    "import pandas as pd\n",
    "import numpy as np\n",
    "import joblib"
   ]
  },
  {
   "cell_type": "code",
   "execution_count": 2,
   "metadata": {},
   "outputs": [
    {
     "name": "stderr",
     "output_type": "stream",
     "text": [
      "Using TensorFlow backend.\n"
     ]
    }
   ],
   "source": [
    "from nfp import GraphModel\n",
    "from preprocessor_utils import ConcatGraphSequence\n",
    "from prediction import preprocessor, model, predict_bdes\n",
    "\n",
    "embedding_model = GraphModel(model.inputs, [model.layers[-3].input])"
   ]
  },
  {
   "cell_type": "code",
   "execution_count": 3,
   "metadata": {},
   "outputs": [],
   "source": [
    "smiles = 'c1ccc2c(c1)CCc1ccccc1C2'\n",
    "bond_index = 21"
   ]
  },
  {
   "cell_type": "code",
   "execution_count": 4,
   "metadata": {},
   "outputs": [
    {
     "name": "stderr",
     "output_type": "stream",
     "text": [
      "100%|██████████| 1/1 [00:00<00:00, 499.80it/s]\n",
      "100%|██████████| 1/1 [00:00<00:00, 598.50it/s]\n"
     ]
    }
   ],
   "source": [
    "bde_df = predict_bdes(smiles)\n",
    "\n",
    "inputs = preprocessor.predict((smiles,))\n",
    "embeddings = embedding_model.predict_generator(\n",
    "    ConcatGraphSequence(inputs, batch_size=128, shuffle=False), verbose=0)"
   ]
  },
  {
   "cell_type": "code",
   "execution_count": 10,
   "metadata": {},
   "outputs": [
    {
     "data": {
      "text/plain": [
       "index                                                          4\n",
       "molecule                                 c1ccc2c(c1)CCc1ccccc1C2\n",
       "bond_type                                                    C-H\n",
       "fragment1                                                    [H]\n",
       "fragment2                               [CH]1Cc2ccccc2Cc2ccccc21\n",
       "bde_pred                                                 85.9576\n",
       "svg            <?xml version='1.0' encoding='iso-8859-1'?>\\n<...\n",
       "bde                                                          NaN\n",
       "has_dft_bde                                                False\n",
       "Name: 21, dtype: object"
      ]
     },
     "execution_count": 10,
     "metadata": {},
     "output_type": "execute_result"
    }
   ],
   "source": [
    "bde_df.set_index('bond_index').loc[bond_index]"
   ]
  },
  {
   "cell_type": "code",
   "execution_count": 6,
   "metadata": {},
   "outputs": [
    {
     "name": "stderr",
     "output_type": "stream",
     "text": [
      "/Users/pstjohn/anaconda3/envs/tf/lib/python3.6/site-packages/sklearn/base.py:306: UserWarning: Trying to unpickle estimator PCA from version 0.20.2 when using version 0.21.2. This might lead to breaking code or invalid results. Use at your own risk.\n",
      "  UserWarning)\n",
      "/Users/pstjohn/anaconda3/envs/tf/lib/python3.6/site-packages/sklearn/base.py:306: UserWarning: Trying to unpickle estimator NearestNeighbors from version 0.20.2 when using version 0.21.2. This might lead to breaking code or invalid results. Use at your own risk.\n",
      "  UserWarning)\n",
      "/Users/pstjohn/anaconda3/envs/tf/lib/python3.6/site-packages/sklearn/base.py:306: UserWarning: Trying to unpickle estimator Pipeline from version 0.20.2 when using version 0.21.2. This might lead to breaking code or invalid results. Use at your own risk.\n",
      "  UserWarning)\n"
     ]
    }
   ],
   "source": [
    "bond_embed_df = pd.read_csv('model_files/20190604_bonds_for_neighbors.csv.gz')\n",
    "nbrs_pipe = joblib.load('model_files/20190604_bond_embedding_nbrs.p.z')\n",
    "\n",
    "def pipe_kneighbors(pipe, X):\n",
    "    Xt = pipe.steps[0][-1].transform(X)\n",
    "    return pipe.steps[-1][-1].kneighbors(Xt)"
   ]
  },
  {
   "cell_type": "code",
   "execution_count": 7,
   "metadata": {},
   "outputs": [],
   "source": [
    "distances, indices = pipe_kneighbors(\n",
    "    nbrs_pipe, embeddings[inputs[0]['bond_indices'] == bond_index])"
   ]
  },
  {
   "cell_type": "code",
   "execution_count": 8,
   "metadata": {},
   "outputs": [],
   "source": [
    "neighbor_df = bond_embed_df.dropna().iloc[indices.flatten()]\n",
    "neighbor_df['distance'] = distances.flatten()"
   ]
  },
  {
   "cell_type": "code",
   "execution_count": 9,
   "metadata": {},
   "outputs": [
    {
     "data": {
      "text/html": [
       "<div>\n",
       "<style scoped>\n",
       "    .dataframe tbody tr th:only-of-type {\n",
       "        vertical-align: middle;\n",
       "    }\n",
       "\n",
       "    .dataframe tbody tr th {\n",
       "        vertical-align: top;\n",
       "    }\n",
       "\n",
       "    .dataframe thead th {\n",
       "        text-align: right;\n",
       "    }\n",
       "</style>\n",
       "<table border=\"1\" class=\"dataframe\">\n",
       "  <thead>\n",
       "    <tr style=\"text-align: right;\">\n",
       "      <th></th>\n",
       "      <th>molecule</th>\n",
       "      <th>bond_index</th>\n",
       "      <th>bde</th>\n",
       "      <th>fragment1</th>\n",
       "      <th>fragment2</th>\n",
       "      <th>distance</th>\n",
       "    </tr>\n",
       "  </thead>\n",
       "  <tbody>\n",
       "    <tr>\n",
       "      <th>665861</th>\n",
       "      <td>O=C1CCc2[nH]ncc2C1</td>\n",
       "      <td>14</td>\n",
       "      <td>86.616950</td>\n",
       "      <td>[H]</td>\n",
       "      <td>O=C1C[CH]c2[nH]ncc2C1</td>\n",
       "      <td>3.406792</td>\n",
       "    </tr>\n",
       "    <tr>\n",
       "      <th>617876</th>\n",
       "      <td>O=C1OCC2=C1CCCC2</td>\n",
       "      <td>19</td>\n",
       "      <td>84.160880</td>\n",
       "      <td>[H]</td>\n",
       "      <td>O=C1OCC2=C1CCC[CH]2</td>\n",
       "      <td>3.767896</td>\n",
       "    </tr>\n",
       "    <tr>\n",
       "      <th>198461</th>\n",
       "      <td>c1ncc2c(n1)CCCC2</td>\n",
       "      <td>14</td>\n",
       "      <td>87.016046</td>\n",
       "      <td>[H]</td>\n",
       "      <td>[CH]1CCCc2cncnc21</td>\n",
       "      <td>4.105878</td>\n",
       "    </tr>\n",
       "    <tr>\n",
       "      <th>821904</th>\n",
       "      <td>CN1CCC(=CCO)CC1</td>\n",
       "      <td>22</td>\n",
       "      <td>85.571520</td>\n",
       "      <td>[H]</td>\n",
       "      <td>CN1C[CH]C(=CCO)CC1</td>\n",
       "      <td>4.213024</td>\n",
       "    </tr>\n",
       "    <tr>\n",
       "      <th>417890</th>\n",
       "      <td>O=C1NCC2=C1CCCC2</td>\n",
       "      <td>15</td>\n",
       "      <td>85.969988</td>\n",
       "      <td>[H]</td>\n",
       "      <td>O=C1NCC2=C1[CH]CCC2</td>\n",
       "      <td>4.239782</td>\n",
       "    </tr>\n",
       "    <tr>\n",
       "      <th>644415</th>\n",
       "      <td>c1cnc2c(c1)OCCC2</td>\n",
       "      <td>19</td>\n",
       "      <td>87.013535</td>\n",
       "      <td>[H]</td>\n",
       "      <td>[CH]1CCOc2cccnc21</td>\n",
       "      <td>4.304628</td>\n",
       "    </tr>\n",
       "    <tr>\n",
       "      <th>432763</th>\n",
       "      <td>c1cc2c(cn1)CCCC2</td>\n",
       "      <td>21</td>\n",
       "      <td>86.195891</td>\n",
       "      <td>[H]</td>\n",
       "      <td>[CH]1CCCc2cnccc21</td>\n",
       "      <td>4.335591</td>\n",
       "    </tr>\n",
       "    <tr>\n",
       "      <th>114330</th>\n",
       "      <td>C1CCc2nonc2C1</td>\n",
       "      <td>16</td>\n",
       "      <td>88.584191</td>\n",
       "      <td>[H]</td>\n",
       "      <td>[CH]1CCCc2nonc21</td>\n",
       "      <td>4.729384</td>\n",
       "    </tr>\n",
       "  </tbody>\n",
       "</table>\n",
       "</div>"
      ],
      "text/plain": [
       "                  molecule  bond_index        bde fragment1  \\\n",
       "665861  O=C1CCc2[nH]ncc2C1          14  86.616950       [H]   \n",
       "617876    O=C1OCC2=C1CCCC2          19  84.160880       [H]   \n",
       "198461    c1ncc2c(n1)CCCC2          14  87.016046       [H]   \n",
       "821904     CN1CCC(=CCO)CC1          22  85.571520       [H]   \n",
       "417890    O=C1NCC2=C1CCCC2          15  85.969988       [H]   \n",
       "644415    c1cnc2c(c1)OCCC2          19  87.013535       [H]   \n",
       "432763    c1cc2c(cn1)CCCC2          21  86.195891       [H]   \n",
       "114330       C1CCc2nonc2C1          16  88.584191       [H]   \n",
       "\n",
       "                    fragment2  distance  \n",
       "665861  O=C1C[CH]c2[nH]ncc2C1  3.406792  \n",
       "617876    O=C1OCC2=C1CCC[CH]2  3.767896  \n",
       "198461      [CH]1CCCc2cncnc21  4.105878  \n",
       "821904     CN1C[CH]C(=CCO)CC1  4.213024  \n",
       "417890    O=C1NCC2=C1[CH]CCC2  4.239782  \n",
       "644415      [CH]1CCOc2cccnc21  4.304628  \n",
       "432763      [CH]1CCCc2cnccc21  4.335591  \n",
       "114330       [CH]1CCCc2nonc21  4.729384  "
      ]
     },
     "execution_count": 9,
     "metadata": {},
     "output_type": "execute_result"
    }
   ],
   "source": [
    "reduced_df = neighbor_df.drop_duplicates(['molecule', 'fragment1', 'fragment2']).sort_values('distance')\n",
    "reduced_df"
   ]
  },
  {
   "cell_type": "code",
   "execution_count": null,
   "metadata": {},
   "outputs": [],
   "source": []
  }
 ],
 "metadata": {
  "kernelspec": {
   "display_name": "Python 3",
   "language": "python",
   "name": "python3"
  },
  "language_info": {
   "codemirror_mode": {
    "name": "ipython",
    "version": 3
   },
   "file_extension": ".py",
   "mimetype": "text/x-python",
   "name": "python",
   "nbconvert_exporter": "python",
   "pygments_lexer": "ipython3",
   "version": "3.6.7"
  }
 },
 "nbformat": 4,
 "nbformat_minor": 2
}
